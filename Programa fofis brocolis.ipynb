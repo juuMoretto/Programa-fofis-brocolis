{
 "cells": [
  {
   "cell_type": "code",
   "execution_count": 1,
   "metadata": {},
   "outputs": [],
   "source": [
    "import matplotlib.pyplot as plot\n",
    "%matplotlib inline"
   ]
  },
  {
   "cell_type": "code",
   "execution_count": 2,
   "metadata": {
    "collapsed": true
   },
   "outputs": [],
   "source": [
    "import pylef\n",
    "import visa"
   ]
  },
  {
   "cell_type": "code",
   "execution_count": 3,
   "metadata": {},
   "outputs": [
    {
     "data": {
      "text/plain": [
       "('USB0::0x0699::0x03B0::C011192::INSTR',\n",
       " 'USB0::0xF4ED::0xEE3A::388A15157::INSTR')"
      ]
     },
     "execution_count": 3,
     "metadata": {},
     "output_type": "execute_result"
    }
   ],
   "source": [
    "visa.ResourceManager().list_resources()\n"
   ]
  },
  {
   "cell_type": "code",
   "execution_count": 4,
   "metadata": {},
   "outputs": [
    {
     "name": "stdout",
     "output_type": "stream",
     "text": [
      "Gerador de Funções conectado! Id = *IDN BK Precision,4052,388A15157,1.01.01.31R3,02-00-00-22-26\n",
      "Osciloscópio conectado! Id = TEKTRONIX,TBS 1062,C011192,CF:91.1CT FV:v26.01\n"
     ]
    }
   ],
   "source": [
    "func_gen = pylef.BK4052()\n",
    "scope = pylef.TektronixTBS1062()"
   ]
  },
  {
   "cell_type": "code",
   "execution_count": 5,
   "metadata": {},
   "outputs": [
    {
     "name": "stdout",
     "output_type": "stream",
     "text": [
      "{'phase': 0.0, 'frequency': 100.0, 'offset': 0.0, 'type': 'sine', 'Vpp': 4.0}\n",
      "{'phase': 0.0, 'frequency': 1000.0, 'offset': 0.0, 'type': 'sine', 'Vpp': 4.0}\n"
     ]
    }
   ],
   "source": [
    "print(func_gen.ch1.wave_info())\n",
    "print(func_gen.ch2.wave_info())"
   ]
  },
  {
   "cell_type": "code",
   "execution_count": 6,
   "metadata": {},
   "outputs": [],
   "source": [
    "func_gen.ch1.set_function('sine')\n",
    "func_gen.ch1.set_frequency(1000)\n",
    "func_gen.ch1.set_Vpp(4)\n",
    "func_gen.ch1.set_offset(0)\n"
   ]
  },
  {
   "cell_type": "code",
   "execution_count": 7,
   "metadata": {},
   "outputs": [
    {
     "name": "stdout",
     "output_type": "stream",
     "text": [
      ":ALLEV 401,\"Power on; \"\n",
      "\n"
     ]
    }
   ],
   "source": [
    "scope.ch1.set_smart_scale()"
   ]
  },
  {
   "cell_type": "code",
   "execution_count": 8,
   "metadata": {},
   "outputs": [
    {
     "name": "stdout",
     "output_type": "stream",
     "text": [
      "{'phase': 0.0, 'frequency': 1000.0, 'offset': 0.0, 'type': 'sine', 'Vpp': 4.0}\n",
      "{'phase': 0.0, 'frequency': 1000.0, 'offset': 0.0, 'type': 'sine', 'Vpp': 4.0}\n"
     ]
    }
   ],
   "source": [
    "print(func_gen.ch1.wave_info())\n",
    "print(func_gen.ch2.wave_info())"
   ]
  },
  {
   "cell_type": "code",
   "execution_count": 9,
   "metadata": {},
   "outputs": [
    {
     "data": {
      "text/plain": [
       "[<matplotlib.lines.Line2D at 0x1e3166a940>]"
      ]
     },
     "execution_count": 9,
     "metadata": {},
     "output_type": "execute_result"
    },
    {
     "data": {
      "image/png": "[encoded data removed]",
      "text/plain": [
       "<matplotlib.figure.Figure at 0x1e2ed9e160>"
      ]
     },
     "metadata": {},
     "output_type": "display_data"
    }
   ],
   "source": [
    "t, V = scope.ch1.read_channel()\n",
    "plot.plot(t,V)"
   ]
  },
  {
   "cell_type": "code",
   "execution_count": 10,
   "metadata": {},
   "outputs": [
    {
     "name": "stdout",
     "output_type": "stream",
     "text": [
      "[-0.0005    -0.0004996 -0.0004992 ...,  0.0004988  0.0004992  0.0004996]\n"
     ]
    }
   ],
   "source": [
    "print(t)\n"
   ]
  },
  {
   "cell_type": "code",
   "execution_count": 11,
   "metadata": {},
   "outputs": [
    {
     "name": "stdout",
     "output_type": "stream",
     "text": [
      "[-0.00412776 -0.00444528 -0.00444528 ..., -0.00412776 -0.00412776\n",
      " -0.00412776]\n"
     ]
    }
   ],
   "source": [
    "print(V)"
   ]
  },
  {
   "cell_type": "code",
   "execution_count": 12,
   "metadata": {},
   "outputs": [],
   "source": [
    "   scope.set_horizontal_scale(1e-4)"
   ]
  },
  {
   "cell_type": "code",
   "execution_count": null,
   "metadata": {
    "collapsed": true
   },
   "outputs": [],
   "source": []
  },
  {
   "cell_type": "code",
   "execution_count": 16,
   "metadata": {},
   "outputs": [
    {
     "name": "stdout",
     "output_type": "stream",
     "text": [
      ":ALLEV 548,\"Measurement warning, Clipping positive; \"\n",
      "\n"
     ]
    },
    {
     "data": {
      "image/png": "[encoded data removed]",
      "text/plain": [
       "<matplotlib.figure.Figure at 0x1e2ed9e0f0>"
      ]
     },
     "metadata": {},
     "output_type": "display_data"
    }
   ],
   "source": [
    "import matplotlib.pyplot as plt\n",
    "import numpy as np\n",
    "%matplotlib inline\n",
    "func_gen.ch1.set_function('sine')\n",
    "func_gen.ch1.set_Vpp(4)\n",
    "func_gen.ch1.set_offset(0)\n",
    "f=[]\n",
    "d=[]\n",
    "a=100\n",
    "while(a<1000): \n",
    "   \n",
    "    func_gen.ch1.set_frequency(a)\n",
    "    scope.ch1.set_smart_scale()\n",
    "    scope.set_horizontal_scale(1/(4*a))                      \n",
    "    c=scope.ch2.measure.Vpp()\n",
    "    b=scope.ch1.measure.Vpp()\n",
    "    d.append(a)\n",
    "    e=b/c\n",
    "    f.append(e)\n",
    "    a=a+100\n",
    "plt.plot(d,f)\n",
    "plt.show()"
   ]
  },
  {
   "cell_type": "code",
   "execution_count": null,
   "metadata": {
    "collapsed": true
   },
   "outputs": [],
   "source": []
  }
 ],
 "metadata": {
  "kernelspec": {
   "display_name": "Python 3",
   "language": "python",
   "name": "python3"
  },
  "language_info": {
   "codemirror_mode": {
    "name": "ipython",
    "version": 3
   },
   "file_extension": ".py",
   "mimetype": "text/x-python",
   "name": "python",
   "nbconvert_exporter": "python",
   "pygments_lexer": "ipython3",
   "version": "3.6.2"
  }
 },
 "nbformat": 4,
 "nbformat_minor": 1
}
